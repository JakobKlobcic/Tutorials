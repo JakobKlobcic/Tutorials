{
  "nbformat": 4,
  "nbformat_minor": 0,
  "metadata": {
    "colab": {
      "provenance": []
    },
    "kernelspec": {
      "name": "python3",
      "display_name": "Python 3"
    },
    "language_info": {
      "name": "python"
    }
  },
  "cells": [
    {
      "cell_type": "code",
      "execution_count": 1,
      "metadata": {
        "colab": {
          "base_uri": "https://localhost:8080/",
          "height": 36
        },
        "id": "6MTThzsp84zY",
        "outputId": "3d3047a8-4891-46dd-e513-330717d9eff7"
      },
      "outputs": [
        {
          "output_type": "execute_result",
          "data": {
            "text/plain": [
              "'Do you have parking?'"
            ],
            "application/vnd.google.colaboratory.intrinsic+json": {
              "type": "string"
            }
          },
          "metadata": {},
          "execution_count": 1
        }
      ],
      "source": [
        "question = \"Do you have parking?\"\n",
        "question"
      ]
    },
    {
      "cell_type": "code",
      "source": [
        "df = pd.read_csv(\"../input/webpage-text.csv\")\n",
        "df.head()"
      ],
      "metadata": {
        "colab": {
          "base_uri": "https://localhost:8080/",
          "height": 158
        },
        "id": "WskxgT-X9JqT",
        "outputId": "c9fa624f-49af-4677-c341-d4e3e1b20e35"
      },
      "execution_count": 2,
      "outputs": [
        {
          "output_type": "error",
          "ename": "NameError",
          "evalue": "name 'pd' is not defined",
          "traceback": [
            "\u001b[0;31m---------------------------------------------------------------------------\u001b[0m",
            "\u001b[0;31mNameError\u001b[0m                                 Traceback (most recent call last)",
            "\u001b[0;32m<ipython-input-2-b4f151ad7312>\u001b[0m in \u001b[0;36m<cell line: 1>\u001b[0;34m()\u001b[0m\n\u001b[0;32m----> 1\u001b[0;31m \u001b[0mdf\u001b[0m \u001b[0;34m=\u001b[0m \u001b[0mpd\u001b[0m\u001b[0;34m.\u001b[0m\u001b[0mread_csv\u001b[0m\u001b[0;34m(\u001b[0m\u001b[0;34m\"../input/webpage-text.csv\"\u001b[0m\u001b[0;34m)\u001b[0m\u001b[0;34m\u001b[0m\u001b[0;34m\u001b[0m\u001b[0m\n\u001b[0m\u001b[1;32m      2\u001b[0m \u001b[0mdf\u001b[0m\u001b[0;34m.\u001b[0m\u001b[0mhead\u001b[0m\u001b[0;34m(\u001b[0m\u001b[0;34m)\u001b[0m\u001b[0;34m\u001b[0m\u001b[0;34m\u001b[0m\u001b[0m\n",
            "\u001b[0;31mNameError\u001b[0m: name 'pd' is not defined"
          ]
        }
      ]
    },
    {
      "cell_type": "code",
      "source": [
        "def get_embedding(text, model=\"text-embedding-3-small\"):\n",
        "  text=text.replace(\"\\n\", \" \")\n",
        "  return client.embeddings.create(input = [text], model = model).data[0].embedding"
      ],
      "metadata": {
        "id": "c_wZQpKh9Pcq"
      },
      "execution_count": 3,
      "outputs": []
    },
    {
      "cell_type": "code",
      "source": [
        "get_embedding(df['text'].iloc[0])"
      ],
      "metadata": {
        "colab": {
          "base_uri": "https://localhost:8080/",
          "height": 141
        },
        "id": "zTaZr_mz9xbd",
        "outputId": "6cd759d5-6163-4c27-d91f-ea50b64e92e5"
      },
      "execution_count": 4,
      "outputs": [
        {
          "output_type": "error",
          "ename": "NameError",
          "evalue": "name 'df' is not defined",
          "traceback": [
            "\u001b[0;31m---------------------------------------------------------------------------\u001b[0m",
            "\u001b[0;31mNameError\u001b[0m                                 Traceback (most recent call last)",
            "\u001b[0;32m<ipython-input-4-628e62f887db>\u001b[0m in \u001b[0;36m<cell line: 1>\u001b[0;34m()\u001b[0m\n\u001b[0;32m----> 1\u001b[0;31m \u001b[0mget_embedding\u001b[0m\u001b[0;34m(\u001b[0m\u001b[0mdf\u001b[0m\u001b[0;34m[\u001b[0m\u001b[0;34m'text'\u001b[0m\u001b[0;34m]\u001b[0m\u001b[0;34m.\u001b[0m\u001b[0miloc\u001b[0m\u001b[0;34m[\u001b[0m\u001b[0;36m0\u001b[0m\u001b[0;34m]\u001b[0m\u001b[0;34m)\u001b[0m\u001b[0;34m\u001b[0m\u001b[0;34m\u001b[0m\u001b[0m\n\u001b[0m",
            "\u001b[0;31mNameError\u001b[0m: name 'df' is not defined"
          ]
        }
      ]
    },
    {
      "cell_type": "code",
      "source": [
        "%%time\n",
        "df['embedding'] = df['text'].apply(get_embedding)"
      ],
      "metadata": {
        "id": "nTDxtByt95yS"
      },
      "execution_count": null,
      "outputs": []
    },
    {
      "cell_type": "code",
      "source": [
        "%%time\n",
        "\n",
        "df['embedding'] = de['text'].apply(get_embedding)\n",
        "df.to_csv(\"./website-with-embeddings.csv\", index=False)\n",
        "df.to_pickle(\"./website-with-embeddings.pkl\")"
      ],
      "metadata": {
        "id": "YBuWWda19-r7"
      },
      "execution_count": null,
      "outputs": []
    },
    {
      "cell_type": "code",
      "source": [
        "%%time\n",
        "\n",
        "df = pd.read_pickle(\"./website-with-embeddings.pkl\")\n",
        "df.head()"
      ],
      "metadata": {
        "id": "hg45-JeQ-4KF"
      },
      "execution_count": null,
      "outputs": []
    },
    {
      "cell_type": "code",
      "source": [
        "question_embedding = get_embedding(question)\n",
        "question, question_embedding[0:10], \"...\""
      ],
      "metadata": {
        "id": "G1SX38zF_Agb"
      },
      "execution_count": null,
      "outputs": []
    },
    {
      "cell_type": "code",
      "source": [
        "def fn(page_embedding):\n",
        "  return np.dot(page_embedding, question_embedding)\n",
        "df['distance'] = df['embedding'].apply(fn)\n",
        "df.head()"
      ],
      "metadata": {
        "id": "nGuvEVvW_UAd"
      },
      "execution_count": null,
      "outputs": []
    },
    {
      "cell_type": "code",
      "source": [
        "df.sort_values('distance', ascending=False, inplace=True)\n",
        "df"
      ],
      "metadata": {
        "id": "Mk-B_lxj_pGi"
      },
      "execution_count": null,
      "outputs": []
    },
    {
      "cell_type": "code",
      "source": [
        "context = df['text'].iloc[0] + \"\\n\" + df['text'].iloc[1] + \"\\n\" + df['text'].iloc[2] + \"\\n\" + df['text'].iloc[3] + \"\\n\" + df['text'].iloc[4] +\"\\n\"\n",
        "print(context)"
      ],
      "metadata": {
        "id": "7kbEjk57ApMP"
      },
      "execution_count": null,
      "outputs": []
    },
    {
      "cell_type": "code",
      "source": [
        "response = client.chat.create(\n",
        "    model=\"gpt-3.5-turbo\",\n",
        "    messages=[\n",
        "        {\"role\": \"system\", \"content\": \"You are an assistant who is helping Cambridge Health Alliance (CHA) health systems respond to patient questions. When you answer the question, use the first person to refer to Cambridge Health Alliance. \"},\n",
        "        {\"role\": \"user\", \"content\": context},\n",
        "        {\"role\": \"assistant\", \"content\": f\"Use this information from CHA's website as context to answer user questions: {context}. Please stick to this content when answering the question\"},\n",
        "    ],)"
      ],
      "metadata": {
        "id": "9pFbXPNhBH2x"
      },
      "execution_count": null,
      "outputs": []
    },
    {
      "cell_type": "code",
      "source": [
        "response.choices[0].message.content"
      ],
      "metadata": {
        "id": "TD5evsLYCgF_"
      },
      "execution_count": null,
      "outputs": []
    },
    {
      "cell_type": "markdown",
      "source": [
        "# Now making it repeatable"
      ],
      "metadata": {
        "id": "URJ0olBqCwIE"
      }
    },
    {
      "cell_type": "code",
      "source": [
        "def query(question):\n",
        "  question_embedding = get_embedding(question)\n",
        "\n",
        "  def fn(page_embedding):\n",
        "    return np.dot(page_embedding, question_embedding)\n",
        "  distance_series = df['embedding'].apply(fn)\n",
        "\n",
        "  top_four = distance_series.sort_values(ascending=False).index[0:4]\n",
        "\n",
        "  text_series = df.loc[top_four]['text']\n",
        "  context = \"\\n\\n\".join(text_series)\n",
        "\n",
        "  response = client.chat.create(\n",
        "    model=\"gpt-3.5-turbo\",\n",
        "    messages=[\n",
        "        {\"role\": \"system\", \"content\": \"You are an assistant who is helping Cambridge Health Alliance (CHA) health systems respond to patient questions. When you answer the question, use the first person to refer to Cambridge Health Alliance. \"},\n",
        "        {\"role\": \"user\", \"content\": context},\n",
        "        {\"role\": \"assistant\", \"content\": f\"Use this information from CHA's website as context to answer user questions: {context}. Please stick to this content when answering the question\"},\n",
        "    ],)\n",
        "\n",
        "  return response.choices[0].message.content"
      ],
      "metadata": {
        "id": "44TXGILwC3BL"
      },
      "execution_count": null,
      "outputs": []
    }
  ]
}