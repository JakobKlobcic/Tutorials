{
  "nbformat": 4,
  "nbformat_minor": 0,
  "metadata": {
    "colab": {
      "provenance": []
    },
    "kernelspec": {
      "name": "python3",
      "display_name": "Python 3"
    },
    "language_info": {
      "name": "python"
    }
  },
  "cells": [
    {
      "cell_type": "code",
      "execution_count": null,
      "metadata": {
        "id": "6MTThzsp84zY"
      },
      "outputs": [],
      "source": [
        "question = \"Do you have parking?\"\n",
        "question"
      ]
    },
    {
      "cell_type": "code",
      "source": [
        "df = pd.read_csv(\"../input/webpage-text.csv\")\n",
        "df.head()"
      ],
      "metadata": {
        "id": "WskxgT-X9JqT",
        "collapsed": true
      },
      "execution_count": null,
      "outputs": []
    },
    {
      "cell_type": "code",
      "source": [
        "def get_embedding(text, model=\"text-embedding-3-small\"):\n",
        "  text=text.replace(\"\\n\", \" \")\n",
        "  return client.embeddings.create(input = [text], model = model).data[0].embedding"
      ],
      "metadata": {
        "id": "c_wZQpKh9Pcq"
      },
      "execution_count": null,
      "outputs": []
    },
    {
      "cell_type": "code",
      "source": [
        "get_embedding(df['text'].iloc[0])"
      ],
      "metadata": {
        "id": "zTaZr_mz9xbd"
      },
      "execution_count": null,
      "outputs": []
    },
    {
      "cell_type": "code",
      "source": [
        "%%time\n",
        "df['embedding'] = df['text'].apply(get_embedding)"
      ],
      "metadata": {
        "id": "nTDxtByt95yS"
      },
      "execution_count": null,
      "outputs": []
    },
    {
      "cell_type": "code",
      "source": [
        "%%time\n",
        "\n",
        "df['embedding'] = de['text'].apply(get_embedding)\n",
        "df.to_csv(\"./website-with-embeddings.csv\", index=False)\n",
        "df.to_pickle(\"./website-with-embeddings.pkl\")"
      ],
      "metadata": {
        "id": "YBuWWda19-r7"
      },
      "execution_count": null,
      "outputs": []
    },
    {
      "cell_type": "code",
      "source": [
        "%%time\n",
        "\n",
        "df = pd.read_pickle(\"./website-with-embeddings.pkl\")\n",
        "df.head()"
      ],
      "metadata": {
        "id": "hg45-JeQ-4KF"
      },
      "execution_count": null,
      "outputs": []
    },
    {
      "cell_type": "code",
      "source": [
        "question_embedding = get_embedding(question)\n",
        "question, question_embedding[0:10], \"...\""
      ],
      "metadata": {
        "id": "G1SX38zF_Agb"
      },
      "execution_count": null,
      "outputs": []
    },
    {
      "cell_type": "code",
      "source": [
        "def fn(page_embedding):\n",
        "  return np.dot(page_embedding, question_embedding)\n",
        "df['distance'] = df['embedding'].apply(fn)\n",
        "df.head()"
      ],
      "metadata": {
        "id": "nGuvEVvW_UAd"
      },
      "execution_count": null,
      "outputs": []
    },
    {
      "cell_type": "code",
      "source": [
        "df.sort_values('distance', ascending=False, inplace=True)\n",
        "df"
      ],
      "metadata": {
        "id": "Mk-B_lxj_pGi"
      },
      "execution_count": null,
      "outputs": []
    },
    {
      "cell_type": "code",
      "source": [
        "context = df['text'].iloc[0] + \"\\n\" + df['text'].iloc[1] + \"\\n\" + df['text'].iloc[2] + \"\\n\" + df['text'].iloc[3] + \"\\n\" + df['text'].iloc[4] +\"\\n\"\n",
        "print(context)"
      ],
      "metadata": {
        "id": "7kbEjk57ApMP"
      },
      "execution_count": null,
      "outputs": []
    },
    {
      "cell_type": "code",
      "source": [
        "response = client.chat.create(\n",
        "    model=\"gpt-3.5-turbo\",\n",
        "    messages=[\n",
        "        {\"role\": \"system\", \"content\": \"You are an assistant who is helping Cambridge Health Alliance (CHA) health systems respond to patient questions. When you answer the question, use the first person to refer to Cambridge Health Alliance. \"},\n",
        "        {\"role\": \"user\", \"content\": context},\n",
        "        {\"role\": \"assistant\", \"content\": f\"Use this information from CHA's website as context to answer user questions: {context}. Please stick to this content when answering the question\"},\n",
        "    ],)"
      ],
      "metadata": {
        "id": "9pFbXPNhBH2x"
      },
      "execution_count": null,
      "outputs": []
    },
    {
      "cell_type": "code",
      "source": [
        "response.choices[0].message.content"
      ],
      "metadata": {
        "id": "TD5evsLYCgF_"
      },
      "execution_count": null,
      "outputs": []
    },
    {
      "cell_type": "markdown",
      "source": [
        "# Now making it repeatable"
      ],
      "metadata": {
        "id": "URJ0olBqCwIE"
      }
    },
    {
      "cell_type": "code",
      "source": [
        "def query(question):\n",
        "  question_embedding = get_embedding(question)\n",
        "\n",
        "  def fn(page_embedding):\n",
        "    return np.dot(page_embedding, question_embedding)\n",
        "  distance_series = df['embedding'].apply(fn)\n",
        "\n",
        "  top_four = distance_series.sort_values(ascending=False).index[0:4]\n",
        "\n",
        "  text_series = df.loc[top_four]['text']\n",
        "  context = \"\\n\\n\".join(text_series)\n",
        "\n",
        "  response = client.chat.create(\n",
        "    model=\"gpt-3.5-turbo\",\n",
        "    messages=[\n",
        "        {\"role\": \"system\", \"content\": \"You are an assistant who is helping Cambridge Health Alliance (CHA) health systems respond to patient questions. When you answer the question, use the first person to refer to Cambridge Health Alliance. \"},\n",
        "        {\"role\": \"user\", \"content\": context},\n",
        "        {\"role\": \"assistant\", \"content\": f\"Use this information from CHA's website as context to answer user questions: {context}. Please stick to this content when answering the question\"},\n",
        "    ],)\n",
        "\n",
        "  return response.choices[0].message.content"
      ],
      "metadata": {
        "id": "44TXGILwC3BL"
      },
      "execution_count": null,
      "outputs": []
    }
  ]
}